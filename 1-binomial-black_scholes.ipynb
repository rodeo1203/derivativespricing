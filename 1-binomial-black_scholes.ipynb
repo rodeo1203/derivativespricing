{
 "cells": [
  {
   "cell_type": "code",
   "execution_count": 1,
   "id": "absolute-pharmacology",
   "metadata": {
    "execution": {
     "iopub.execute_input": "2022-12-21T20:30:02.806348Z",
     "iopub.status.busy": "2022-12-21T20:30:02.805323Z",
     "iopub.status.idle": "2022-12-21T20:30:03.638093Z",
     "shell.execute_reply": "2022-12-21T20:30:03.636651Z",
     "shell.execute_reply.started": "2021-11-18T14:37:41.305921Z"
    },
    "papermill": {
     "duration": 0.933361,
     "end_time": "2022-12-21T20:30:03.638310",
     "exception": false,
     "start_time": "2022-12-21T20:30:02.704949",
     "status": "completed"
    },
    "tags": []
   },
   "outputs": [],
   "source": [
    "import numpy as np\n",
    "import matplotlib.pyplot as plt \n",
    "from scipy.stats import norm\n",
    "from scipy.optimize import minimize"
   ]
  },
  {
   "cell_type": "markdown",
   "id": "typical-ghost",
   "metadata": {
    "papermill": {
     "duration": 0.09547,
     "end_time": "2022-12-21T20:30:10.337848",
     "exception": false,
     "start_time": "2022-12-21T20:30:10.242378",
     "status": "completed"
    },
    "tags": []
   },
   "source": [
    "# Options\n",
    "\n",
    "An option stands as a financial derivative, granting the holder the right, without obligation, to purchase an underlying asset such as a stock.\n",
    "\n",
    "Derivatives derive their value from an underlying asset, with key parameters influencing valuation:\n",
    "\n",
    "- **Underlying Asset Price**\n",
    "- **Volatility of Underlying Asset (Standard Deviation)**\n",
    "- **Time Until Expiration of Derivative**\n",
    "- **Strike Price (a threshold value for options, elaborated in subsequent sections)**\n",
    "- **Risk-Free Interest Rate**\n",
    "\n",
    "This analysis focuses on European options, offering the buyer the option to buy or sell a specific stock at a predetermined price on a designated date. A *Call option* provides the right to buy, while a *Put option* gives the right to sell. Two prevalent methods for determining option prices are the Binomial Lattice and Black-Scholes models.\n",
    "\n",
    "## Binomial Lattice (European Call Option)\n",
    "\n",
    "The Binomial Lattice model simplifies pricing by assuming that a stock either increases or decreases by a certain amount within a given time period. The model posits a random path for stock prices, representing potential stock prices at different points in time. The fair price of an option is recursively computed based on these time steps, incorporating the principles of discounting over time using a risk-free interest rate denoted as $r$. The option's price relies on the Strike price ($K$) and the initial Stock price ($S$).\n",
    "\n"
   ]
  },
  {
   "cell_type": "markdown",
   "id": "identified-slovak",
   "metadata": {
    "papermill": {
     "duration": 0.096847,
     "end_time": "2022-12-21T20:30:11.301585",
     "exception": false,
     "start_time": "2022-12-21T20:30:11.204738",
     "status": "completed"
    },
    "tags": []
   },
   "source": [
    "We assume for each time-period a stock goes up or down a certain percentage. These movements are defined by $u$ (Up scenario) and $d$ (Down scenario), where $u > 1$ and $d < 1$. How far a stock can move will depend on the volatility $\\sigma$ and the time-period $\\Delta t$.\n",
    "\n",
    "$u = e^{\\sigma \\sqrt{\\Delta}t}$\n",
    "\n",
    "$d = e^{-\\sigma \\sqrt{\\Delta}t}$"
   ]
  },
  {
   "cell_type": "code",
   "execution_count": 2,
   "id": "bright-sleep",
   "metadata": {
    "execution": {
     "iopub.execute_input": "2022-12-21T20:30:11.498071Z",
     "iopub.status.busy": "2022-12-21T20:30:11.497393Z",
     "iopub.status.idle": "2022-12-21T20:30:11.505427Z",
     "shell.execute_reply": "2022-12-21T20:30:11.506001Z",
     "shell.execute_reply.started": "2021-11-18T14:37:42.42985Z"
    },
    "papermill": {
     "duration": 0.108119,
     "end_time": "2022-12-21T20:30:11.506213",
     "exception": false,
     "start_time": "2022-12-21T20:30:11.398094",
     "status": "completed"
    },
    "tags": []
   },
   "outputs": [],
   "source": [
    "var = 0.2 # Variance\n",
    "sigma = np.sqrt(var) # Standard deviation\n",
    "S = 44 # Stock price\n",
    "K = 45 # Strike price\n",
    "T = 2/12 # Time period (two months = two steps)\n",
    "r = 0.06 # Risk-free interest rate\n",
    "delta_t = 1/12 # time-steps of one month\n",
    "R = np.exp(r * delta_t) # Discounted interest\n",
    "\n",
    "u = np.exp(sigma*np.sqrt(delta_t)) # Up scenario\n",
    "d = np.exp(-sigma*np.sqrt(delta_t)) # Down scenario\n",
    "\n",
    "def price_binomial(R, Pu, Pd, u, d):\n",
    "    \"\"\" Compute option price for a step \"\"\"\n",
    "    q = (R-d)/(u-d)\n",
    "    return (1/R) * (q * Pu + (1-q)*Pd)"
   ]
  },
  {
   "cell_type": "markdown",
   "id": "completed-emperor",
   "metadata": {
    "papermill": {
     "duration": 0.105782,
     "end_time": "2022-12-21T20:30:11.724177",
     "exception": false,
     "start_time": "2022-12-21T20:30:11.618395",
     "status": "completed"
    },
    "tags": []
   },
   "source": [
    "### Two-step call option price"
   ]
  },
  {
   "cell_type": "markdown",
   "id": "superior-hammer",
   "metadata": {
    "papermill": {
     "duration": 0.095677,
     "end_time": "2022-12-21T20:30:11.915699",
     "exception": false,
     "start_time": "2022-12-21T20:30:11.820022",
     "status": "completed"
    },
    "tags": []
   },
   "source": [
    "As a simple example we compute the price of a call option based on two steps of one month. This requires us to start at the end of the tree and compute $C_{ud}$ (One up scenario and one down), $C_{uu}$ (Two times down) and $C_{dd}$ (Two times up). These are all the possible scenarios after two time steps. We then use the result to compute $C_u$ and $C_d$, which are all the scenarios after one step. After this we can finally calculate $C$, which denotes the fair price of an option given all possible scenarios. Note that this setup is very simple and does not reflect reality where many other scenarios can happen. Still, the Binomial lattice gives us a good indication on how much an option if worth. Professional option traders will run software with many more time-steps and run the calculations for various values of $u$ and $d$."
   ]
  },
  {
   "cell_type": "markdown",
   "id": "tutorial-hampshire",
   "metadata": {
    "papermill": {
     "duration": 0.09601,
     "end_time": "2022-12-21T20:30:12.106569",
     "exception": false,
     "start_time": "2022-12-21T20:30:12.010559",
     "status": "completed"
    },
    "tags": []
   },
   "source": [
    "$C_{ud} = max\\{Sud - K, 0\\}$\n",
    "\n",
    "$C_{uu} = max\\{Su^2 - K, 0\\}$\n",
    "\n",
    "$C_{dd} = max\\{Sd^2 - K, 0\\}$\n",
    "\n",
    "$C_u = \\frac{1}{R}(q C_{uu} + (1-q)C_{ud})$\n",
    "\n",
    "$C_d = \\frac{1}{R}(q C_{ud} + (1-q)C_{dd})$\n",
    "\n",
    "$C = \\frac{1}{R}(q C_{u} + (1-q)C_{d})$\n",
    "\n",
    "\n",
    "where $q = \\frac{R - d}{u - d}$ and $R = e^{r \\Delta t}$."
   ]
  },
  {
   "cell_type": "code",
   "execution_count": 3,
   "id": "surprising-baker",
   "metadata": {
    "execution": {
     "iopub.execute_input": "2022-12-21T20:30:12.301331Z",
     "iopub.status.busy": "2022-12-21T20:30:12.300540Z",
     "iopub.status.idle": "2022-12-21T20:30:12.305732Z",
     "shell.execute_reply": "2022-12-21T20:30:12.306345Z",
     "shell.execute_reply.started": "2021-11-18T14:37:42.442041Z"
    },
    "papermill": {
     "duration": 0.104652,
     "end_time": "2022-12-21T20:30:12.306550",
     "exception": false,
     "start_time": "2022-12-21T20:30:12.201898",
     "status": "completed"
    },
    "tags": []
   },
   "outputs": [],
   "source": [
    "c_ud = np.maximum(0, u * d * S - K)\n",
    "c_uu = np.maximum(0, u**2 * S - K)\n",
    "c_dd = np.maximum(0, d**2 * S - K)"
   ]
  },
  {
   "cell_type": "code",
   "execution_count": 4,
   "id": "fancy-delhi",
   "metadata": {
    "execution": {
     "iopub.execute_input": "2022-12-21T20:30:12.698512Z",
     "iopub.status.busy": "2022-12-21T20:30:12.697704Z",
     "iopub.status.idle": "2022-12-21T20:30:12.703429Z",
     "shell.execute_reply": "2022-12-21T20:30:12.704141Z",
     "shell.execute_reply.started": "2021-11-18T15:04:54.478523Z"
    },
    "papermill": {
     "duration": 0.104782,
     "end_time": "2022-12-21T20:30:12.704399",
     "exception": false,
     "start_time": "2022-12-21T20:30:12.599617",
     "status": "completed"
    },
    "tags": []
   },
   "outputs": [
    {
     "name": "stdout",
     "output_type": "stream",
     "text": [
      "Option price for 1-step up scenario: 5.8\n"
     ]
    }
   ],
   "source": [
    "Cu = price_binomial(R, c_uu, c_ud, u, d)\n",
    "print(f\"Option price for 1-step up scenario: {Cu.round(2)}\")"
   ]
  },
  {
   "cell_type": "code",
   "execution_count": 5,
   "id": "specific-vegetation",
   "metadata": {
    "execution": {
     "iopub.execute_input": "2022-12-21T20:30:12.900564Z",
     "iopub.status.busy": "2022-12-21T20:30:12.899866Z",
     "iopub.status.idle": "2022-12-21T20:30:12.906299Z",
     "shell.execute_reply": "2022-12-21T20:30:12.905738Z",
     "shell.execute_reply.started": "2021-11-18T15:05:03.996387Z"
    },
    "papermill": {
     "duration": 0.105309,
     "end_time": "2022-12-21T20:30:12.906461",
     "exception": false,
     "start_time": "2022-12-21T20:30:12.801152",
     "status": "completed"
    },
    "tags": []
   },
   "outputs": [
    {
     "name": "stdout",
     "output_type": "stream",
     "text": [
      "Option price for 1-step down scenario: 0.0\n"
     ]
    }
   ],
   "source": [
    "Cd = price_binomial(R, c_ud, c_dd, u, d)\n",
    "print(f\"Option price for 1-step down scenario: {Cd.round(2)}\")"
   ]
  },
  {
   "cell_type": "code",
   "execution_count": 6,
   "id": "continental-integration",
   "metadata": {
    "execution": {
     "iopub.execute_input": "2022-12-21T20:30:13.105895Z",
     "iopub.status.busy": "2022-12-21T20:30:13.105188Z",
     "iopub.status.idle": "2022-12-21T20:30:13.108341Z",
     "shell.execute_reply": "2022-12-21T20:30:13.108917Z",
     "shell.execute_reply.started": "2021-11-18T15:05:25.89734Z"
    },
    "papermill": {
     "duration": 0.106301,
     "end_time": "2022-12-21T20:30:13.109124",
     "exception": false,
     "start_time": "2022-12-21T20:30:13.002823",
     "status": "completed"
    },
    "tags": []
   },
   "outputs": [
    {
     "name": "stdout",
     "output_type": "stream",
     "text": [
      "Fair option price given all scenario's: 2.81\n"
     ]
    }
   ],
   "source": [
    "C = price_binomial(R, Cu, Cd, u, d)\n",
    "print(f\"Fair option price given all scenario's: {C.round(2)}\")"
   ]
  },
  {
   "cell_type": "markdown",
   "id": "controlled-thumbnail",
   "metadata": {
    "papermill": {
     "duration": 0.096862,
     "end_time": "2022-12-21T20:30:13.302331",
     "exception": false,
     "start_time": "2022-12-21T20:30:13.205469",
     "status": "completed"
    },
    "tags": []
   },
   "source": [
    "## Binomial Lattice plotting"
   ]
  },
  {
   "cell_type": "markdown",
   "id": "light-graphic",
   "metadata": {
    "papermill": {
     "duration": 0.096467,
     "end_time": "2022-12-21T20:30:13.497348",
     "exception": false,
     "start_time": "2022-12-21T20:30:13.400881",
     "status": "completed"
    },
    "tags": []
   },
   "source": [
    "To get a clearer overview of the binomial lattice we can visualize the tree on which price calculation is based. It also allows us to analyze what returns are assumed for the up and down scenario after a time step."
   ]
  },
  {
   "cell_type": "code",
   "execution_count": 7,
   "id": "tribal-generator",
   "metadata": {
    "_kg_hide-input": true,
    "execution": {
     "iopub.execute_input": "2022-12-21T20:30:13.704254Z",
     "iopub.status.busy": "2022-12-21T20:30:13.703364Z",
     "iopub.status.idle": "2022-12-21T20:30:14.060369Z",
     "shell.execute_reply": "2022-12-21T20:30:14.059836Z",
     "shell.execute_reply.started": "2021-11-18T15:15:01.465376Z"
    },
    "papermill": {
     "duration": 0.464063,
     "end_time": "2022-12-21T20:30:14.060523",
     "exception": false,
     "start_time": "2022-12-21T20:30:13.596460",
     "status": "completed"
    },
    "tags": []
   },
   "outputs": [
    {
     "data": {
      "image/png": "[encoded data removed]",
      "text/plain": [
       "<Figure size 1600x800 with 1 Axes>"
      ]
     },
     "metadata": {},
     "output_type": "display_data"
    }
   ],
   "source": [
    "fig = plt.figure(figsize=[16, 8])\n",
    "for i in range(2):\n",
    "    x = [1, 0, 1]\n",
    "    for j in range(i):\n",
    "        x.append(0)\n",
    "        x.append(1)\n",
    "    x = np.array(x) + i\n",
    "    y = np.arange(-(i+1), i+2)[::-1]\n",
    "    y = 100 * np.power(u, y)\n",
    "    plt.plot(x, y, 'bo-')\n",
    "    if i % 2 == 0:\n",
    "        for x_pos, y_value in zip(x,y):\n",
    "            plt.annotate(y_value.round(2), \n",
    "                         (x_pos, y_value), \n",
    "                         textcoords=\"offset points\",\n",
    "                         xytext=(0, 10), \n",
    "                         ha='center', fontsize=20)\n",
    "plt.xlabel('Time point t (months)', fontsize=20)\n",
    "plt.ylabel('Price (percentage from time t)', fontsize=20)\n",
    "plt.xticks([0, 1, 2], fontsize=16)\n",
    "plt.title('Two step Binomial lattice - European call option', fontsize=20, weight='bold')\n",
    "plt.tight_layout()"
   ]
  },
  {
   "cell_type": "markdown",
   "id": "heavy-airport",
   "metadata": {
    "papermill": {
     "duration": 0.100744,
     "end_time": "2022-12-21T20:30:14.261319",
     "exception": false,
     "start_time": "2022-12-21T20:30:14.160575",
     "status": "completed"
    },
    "tags": []
   },
   "source": [
    "## Black-Scholes"
   ]
  },
  {
   "cell_type": "markdown",
   "id": "developing-clothing",
   "metadata": {
    "papermill": {
     "duration": 0.100538,
     "end_time": "2022-12-21T20:30:14.464865",
     "exception": false,
     "start_time": "2022-12-21T20:30:14.364327",
     "status": "completed"
    },
    "tags": []
   },
   "source": [
    "Black-Scholes is a formula to derive the price of an option based on stochastic calculus."
   ]
  },
  {
   "cell_type": "markdown",
   "id": "joint-flashing",
   "metadata": {
    "papermill": {
     "duration": 0.100982,
     "end_time": "2022-12-21T20:30:14.666541",
     "exception": false,
     "start_time": "2022-12-21T20:30:14.565559",
     "status": "completed"
    },
    "tags": []
   },
   "source": [
    "$S_t$ = Stock price at time $t$, $K$ = Strike price of option, $T$ is time till expiration in years, $r$ = risk-free interest rate $\\sigma$ = standard deviation (i.e. volatility).\n",
    "\n",
    "$\\Phi$ denotes the Cumulative Density Function (CDF) of the standard normal distribution ($N(0, 1)$).\n",
    "\n",
    "\n",
    "$C(S_t, t) = \\Phi(d_1^{(t)})S_t - \\Phi(d_2^{(t)})Ke^{-rT}$\n",
    "\n",
    "$P(S_t, t) = \\Phi(-d_2^{(t)})Ke^{-rT} - \\Phi(-d_1^{(t)})S_t$\n",
    "\n",
    "where $d_1^{(t)} = \\frac{1}{\\sigma \\sqrt{T}}[ln(\\frac{S_t}{K}) + (r+\\frac{\\sigma^2}{2})T]$\n",
    "\n",
    "$d_2^{(t)} = d_1^{(t)} - \\sigma \\sqrt{T}$"
   ]
  },
  {
   "cell_type": "code",
   "execution_count": 8,
   "id": "terminal-viewer",
   "metadata": {
    "execution": {
     "iopub.execute_input": "2022-12-21T20:30:14.886230Z",
     "iopub.status.busy": "2022-12-21T20:30:14.885477Z",
     "iopub.status.idle": "2022-12-21T20:30:14.892885Z",
     "shell.execute_reply": "2022-12-21T20:30:14.892232Z",
     "shell.execute_reply.started": "2021-11-18T14:37:42.817686Z"
    },
    "papermill": {
     "duration": 0.121051,
     "end_time": "2022-12-21T20:30:14.893052",
     "exception": false,
     "start_time": "2022-12-21T20:30:14.772001",
     "status": "completed"
    },
    "tags": []
   },
   "outputs": [],
   "source": [
    "class BlackScholes:\n",
    "    \"\"\" \n",
    "    Class to calculate (European) call and put option prices through the Black-Scholes formula \n",
    "    without dividends\n",
    "    \n",
    "    :S: Price of underlying stock\n",
    "    :K: Strike price\n",
    "    :T: Time till expiration (in years)\n",
    "    :r: Risk-free interest rate (0.05 indicates 5%)\n",
    "    :sigma: Volatility (standard deviation) of stock (0.15 indicates 15%)\n",
    "    \"\"\"\n",
    "    @staticmethod\n",
    "    def _d1(S, K, T, r, sigma):\n",
    "        return (1 / (sigma * np.sqrt(T))) * (np.log(S/K) + (r + sigma**2 / 2) * T)\n",
    "    \n",
    "    def _d2(self, S, K, T, r, sigma):\n",
    "        return self._d1(S, K, T, r, sigma) - sigma * np.sqrt(T)\n",
    "    \n",
    "    def call_price(self, S, K, T, r, sigma):\n",
    "        \"\"\" Main method for calculating price of a call option \"\"\"\n",
    "        d1 = self._d1(S, K, T, r, sigma)\n",
    "        d2 = self._d2(S, K, T, r, sigma)\n",
    "        return norm.cdf(d1) * S - norm.cdf(d2) * K * np.exp(-r*T)\n",
    "    \n",
    "    def put_price(self, S, K, T, r, sigma):\n",
    "        \"\"\" Main method for calculating price of a put option \"\"\"\n",
    "        d1 = self._d1(S, K, T, r, sigma)\n",
    "        d2 = self._d2(S, K, T, r, sigma)\n",
    "        return norm.cdf(-d2) * K * np.exp(-r*T) - norm.cdf(-d1) * S\n",
    "    \n",
    "    def call_in_the_money(self, S, K, T, r, sigma):\n",
    "        \"\"\" \n",
    "        Calculate probability that call option will be in the money at\n",
    "        maturity according to Black-Scholes.\n",
    "        \"\"\"\n",
    "        d2 = self._d2(S, K, T, r, sigma)\n",
    "        return norm.cdf(d2)\n",
    "    \n",
    "    def put_in_the_money(self, S, K, T, r, sigma):\n",
    "        \"\"\" \n",
    "        Calculate probability that put option will be in the money at\n",
    "        maturity according to Black-Scholes.\n",
    "        \"\"\"\n",
    "        d2 = self._d2(S, K, T, r, sigma)\n",
    "        return 1 - norm.cdf(d2)"
   ]
  },
  {
   "cell_type": "code",
   "execution_count": 9,
   "id": "decent-serial",
   "metadata": {
    "execution": {
     "iopub.execute_input": "2022-12-21T20:30:15.094989Z",
     "iopub.status.busy": "2022-12-21T20:30:15.094182Z",
     "iopub.status.idle": "2022-12-21T20:30:15.098654Z",
     "shell.execute_reply": "2022-12-21T20:30:15.099263Z",
     "shell.execute_reply.started": "2021-11-18T14:37:42.833282Z"
    },
    "papermill": {
     "duration": 0.107318,
     "end_time": "2022-12-21T20:30:15.099471",
     "exception": false,
     "start_time": "2022-12-21T20:30:14.992153",
     "status": "completed"
    },
    "tags": []
   },
   "outputs": [],
   "source": [
    "S = 44 # Stock price\n",
    "K = 45 # Strike price\n",
    "T = 2/12 # Time till expiration (in years)\n",
    "r = 0.06 # Risk-free interest rate\n",
    "sigma = np.sqrt(0.2) # Volatility (standard deviation)"
   ]
  },
  {
   "cell_type": "code",
   "execution_count": 10,
   "id": "dramatic-receipt",
   "metadata": {
    "execution": {
     "iopub.execute_input": "2022-12-21T20:30:15.305406Z",
     "iopub.status.busy": "2022-12-21T20:30:15.304656Z",
     "iopub.status.idle": "2022-12-21T20:30:15.312518Z",
     "shell.execute_reply": "2022-12-21T20:30:15.313207Z",
     "shell.execute_reply.started": "2021-11-18T14:37:42.851237Z"
    },
    "papermill": {
     "duration": 0.112689,
     "end_time": "2022-12-21T20:30:15.313411",
     "exception": false,
     "start_time": "2022-12-21T20:30:15.200722",
     "status": "completed"
    },
    "tags": []
   },
   "outputs": [
    {
     "data": {
      "text/plain": [
       "2.9518170207100383"
      ]
     },
     "execution_count": 10,
     "metadata": {},
     "output_type": "execute_result"
    }
   ],
   "source": [
    "BlackScholes().call_price(S, K, T, r, sigma)"
   ]
  },
  {
   "cell_type": "code",
   "execution_count": 11,
   "id": "sought-professional",
   "metadata": {
    "execution": {
     "iopub.execute_input": "2022-12-21T20:30:15.518083Z",
     "iopub.status.busy": "2022-12-21T20:30:15.517256Z",
     "iopub.status.idle": "2022-12-21T20:30:15.523712Z",
     "shell.execute_reply": "2022-12-21T20:30:15.524358Z",
     "shell.execute_reply.started": "2021-11-18T14:37:42.867799Z"
    },
    "papermill": {
     "duration": 0.109427,
     "end_time": "2022-12-21T20:30:15.524551",
     "exception": false,
     "start_time": "2022-12-21T20:30:15.415124",
     "status": "completed"
    },
    "tags": []
   },
   "outputs": [
    {
     "data": {
      "text/plain": [
       "3.5040595394226024"
      ]
     },
     "execution_count": 11,
     "metadata": {},
     "output_type": "execute_result"
    }
   ],
   "source": [
    "BlackScholes().put_price(S, K, T, r, sigma)"
   ]
  },
  {
   "cell_type": "markdown",
   "id": "lesser-regulation",
   "metadata": {
    "papermill": {
     "duration": 0.102639,
     "end_time": "2022-12-21T20:30:15.731472",
     "exception": false,
     "start_time": "2022-12-21T20:30:15.628833",
     "status": "completed"
    },
    "tags": []
   },
   "source": [
    "### Probability of option ending in the money"
   ]
  },
  {
   "cell_type": "markdown",
   "id": "noticed-clark",
   "metadata": {
    "papermill": {
     "duration": 0.101554,
     "end_time": "2022-12-21T20:30:15.936394",
     "exception": false,
     "start_time": "2022-12-21T20:30:15.834840",
     "status": "completed"
    },
    "tags": []
   },
   "source": [
    "We will show how you can use Black-Scholes to compute the theoretical probability of an option ending in the money. In the money means the option has a value at expiration. For a call option this means that the underlying stock price $S$ is higher than the strike price $K$ at experition. For a put option the stock price must be lower than the strike price. Note that this measure is solely dependent on the CDF of the Standard Normal distribution $N(0, 1)$."
   ]
  },
  {
   "cell_type": "markdown",
   "id": "boring-craft",
   "metadata": {
    "papermill": {
     "duration": 0.10095,
     "end_time": "2022-12-21T20:30:16.138106",
     "exception": false,
     "start_time": "2022-12-21T20:30:16.037156",
     "status": "completed"
    },
    "tags": []
   },
   "source": [
    "Probability call is in the money = $\\Phi(d_2^{(t)})$"
   ]
  },
  {
   "cell_type": "code",
   "execution_count": 12,
   "id": "official-generic",
   "metadata": {
    "execution": {
     "iopub.execute_input": "2022-12-21T20:30:16.342203Z",
     "iopub.status.busy": "2022-12-21T20:30:16.341440Z",
     "iopub.status.idle": "2022-12-21T20:30:16.348172Z",
     "shell.execute_reply": "2022-12-21T20:30:16.348701Z",
     "shell.execute_reply.started": "2021-11-18T14:37:42.877918Z"
    },
    "papermill": {
     "duration": 0.109691,
     "end_time": "2022-12-21T20:30:16.348913",
     "exception": false,
     "start_time": "2022-12-21T20:30:16.239222",
     "status": "completed"
    },
    "tags": []
   },
   "outputs": [
    {
     "data": {
      "text/plain": [
       "0.43659661712317027"
      ]
     },
     "execution_count": 12,
     "metadata": {},
     "output_type": "execute_result"
    }
   ],
   "source": [
    "BlackScholes().call_in_the_money(S, K, T, r, sigma)"
   ]
  },
  {
   "cell_type": "markdown",
   "id": "mechanical-mumbai",
   "metadata": {
    "papermill": {
     "duration": 0.100733,
     "end_time": "2022-12-21T20:30:16.550314",
     "exception": false,
     "start_time": "2022-12-21T20:30:16.449581",
     "status": "completed"
    },
    "tags": []
   },
   "source": [
    "Probability put is in the money = $1 - \\Phi(d_2^{(t)})$"
   ]
  },
  {
   "cell_type": "code",
   "execution_count": 13,
   "metadata": {},
   "outputs": [
    {
     "data": {
      "text/plain": [
       "0.5634033828768297"
      ]
     },
     "execution_count": 13,
     "metadata": {},
     "output_type": "execute_result"
    }
   ],
   "source": [
    "BlackScholes().put_in_the_money(S, K, T, r, sigma)\n"
   ]
  }
 ],
 "metadata": {
  "kernelspec": {
   "display_name": "Python 3",
   "language": "python",
   "name": "python3"
  },
  "language_info": {
   "codemirror_mode": {
    "name": "ipython",
    "version": 3
   },
   "file_extension": ".py",
   "mimetype": "text/x-python",
   "name": "python",
   "nbconvert_exporter": "python",
   "pygments_lexer": "ipython3",
   "version": "3.11.4"
  },
  "papermill": {
   "default_parameters": {},
   "duration": 83.324784,
   "end_time": "2022-12-21T20:31:15.738139",
   "environment_variables": {},
   "exception": null,
   "input_path": "__notebook__.ipynb",
   "output_path": "__notebook__.ipynb",
   "parameters": {},
   "start_time": "2022-12-21T20:29:52.413355",
   "version": "2.3.3"
  }
 },
 "nbformat": 4,
 "nbformat_minor": 5
}
